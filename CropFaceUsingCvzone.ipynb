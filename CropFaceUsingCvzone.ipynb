{
 "cells": [
  {
   "cell_type": "code",
   "execution_count": 2,
   "id": "527ab7e9-b077-4da0-b426-cb909c64605c",
   "metadata": {},
   "outputs": [
    {
     "name": "stdout",
     "output_type": "stream",
     "text": [
      "Requirement already satisfied: opencv-python in c:\\users\\jaya verma\\anaconda3\\lib\\site-packages (4.9.0.80)\n",
      "Requirement already satisfied: numpy>=1.21.2 in c:\\users\\jaya verma\\anaconda3\\lib\\site-packages (from opencv-python) (1.26.4)\n",
      "Note: you may need to restart the kernel to use updated packages.\n"
     ]
    }
   ],
   "source": [
    " pip install opencv-python"
   ]
  },
  {
   "cell_type": "code",
   "execution_count": 3,
   "id": "922285a8-2d8b-4749-9699-082aebcf6cec",
   "metadata": {},
   "outputs": [
    {
     "name": "stderr",
     "output_type": "stream",
     "text": [
      "<>:13: SyntaxWarning: \"is\" with a literal. Did you mean \"==\"?\n",
      "<>:13: SyntaxWarning: \"is\" with a literal. Did you mean \"==\"?\n",
      "C:\\Users\\jaya verma\\AppData\\Local\\Temp\\ipykernel_22900\\92496240.py:13: SyntaxWarning: \"is\" with a literal. Did you mean \"==\"?\n",
      "  if faces is ():\n"
     ]
    },
    {
     "name": "stdout",
     "output_type": "stream",
     "text": [
      "successsfully collected samples\n"
     ]
    }
   ],
   "source": [
    "import cv2\n",
    "\n",
    "#create the model that detects human face\n",
    "face_model = cv2.CascadeClassifier('myhaarcascade_frontalface_default.xml')\n",
    "\n",
    "# after detecting face crop it\n",
    "# this will extract_your cropped face\n",
    "def face_extract(pic):\n",
    "    gray = cv2.cvtColor(pic,cv2.COLOR_BGR2GRAY)\n",
    "    \n",
    "    faces = face_model.detectMultiScale(gray,1.2,5)   # (img , scaling , no of max faces)\n",
    "    \n",
    "    if faces is ():\n",
    "        return None # if no face found--> return back\n",
    "    \n",
    "    for (x,y,w,h) in faces:\n",
    "        cropped_face = gray[y:y+h,x:x+w]\n",
    "        \n",
    "    return cropped_face # if face found--> return cropped_face\n",
    "\n",
    "# open your shutter\n",
    "cap = cv2.VideoCapture(0)\n",
    "count=0 # for counting no of images\n",
    "\n",
    "while True:\n",
    "    ret, pic = cap.read()\n",
    "    \n",
    "    if face_extract(pic) is not None:  # calling function\n",
    "    \n",
    "        count+=1\n",
    "        pic = cv2.resize(face_extract(pic), (200,200))  # resizing your 480x640 --> 200x200\n",
    "\n",
    "        file_name_path = \"./img/\" + str(count) + \".jpg\"      #YOU HAVE TO CREATE img FOLDER N THEN GIVE ITS LOCATION\n",
    "        cv2.imwrite(file_name_path, pic)  # save pic to folder\n",
    "\n",
    "        cv2.putText(pic,str(count),(100,25),cv2.FONT_HERSHEY_COMPLEX,1,(0,255,0),2)\n",
    "        cv2.imshow('hi',pic) # show the live cropped_face\n",
    "        \n",
    "    else:\n",
    "        print(\"Face not Found\")  \n",
    "        \n",
    "    if cv2.waitKey(10)==13 or count==100:\n",
    "        break\n",
    "        \n",
    "cv2.destroyAllWindows()\n",
    "cap.release()\n",
    "print(\"successsfully collected samples\")\n",
    " "
   ]
  },
  {
   "cell_type": "code",
   "execution_count": null,
   "id": "03f37319-14d9-4fc9-89fc-a1e87755f6d4",
   "metadata": {},
   "outputs": [],
   "source": []
  }
 ],
 "metadata": {
  "kernelspec": {
   "display_name": "Python 3 (ipykernel)",
   "language": "python",
   "name": "python3"
  },
  "language_info": {
   "codemirror_mode": {
    "name": "ipython",
    "version": 3
   },
   "file_extension": ".py",
   "mimetype": "text/x-python",
   "name": "python",
   "nbconvert_exporter": "python",
   "pygments_lexer": "ipython3",
   "version": "3.11.7"
  }
 },
 "nbformat": 4,
 "nbformat_minor": 5
}
